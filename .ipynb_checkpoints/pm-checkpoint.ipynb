{
 "cells": [
  {
   "cell_type": "code",
   "execution_count": 2,
   "id": "6e339bf7-5618-448f-81a7-22d1f4f7d92b",
   "metadata": {},
   "outputs": [],
   "source": [
    "import numpy as np\n",
    "import pandas as pd\n",
    "import sys\n",
    "import argparse"
   ]
  },
  {
   "cell_type": "code",
   "execution_count": 8,
   "id": "3694ee13-ae0c-4205-a16e-6b1fafd829ee",
   "metadata": {},
   "outputs": [],
   "source": [
    "f = {\"ID\":[1,2],\n",
    "     \"practice\":['bla','bli'],\n",
    "     \"instrument\":['guitar','bass'],\n",
    "     \"tag\":['song jazz','scale'],\n",
    "     \"description\":['lhlh','lklj'],\n",
    "     \"links\":['rsc/doc.pdf','frs.mp3 fevr.pdf'],\n",
    "    \"priority\":[0.54,1.654],\n",
    "    \"status\":[0,1],\n",
    "    \"count\":[0,2],\n",
    "    \"creation_date\":[2454,2545],\n",
    "     \"log\":[\"56 54 547\",\"547\"]}\n",
    "df = pd.DataFrame(f)\n",
    "df.to_csv(\"ex.csv\",index=False)"
   ]
  },
  {
   "cell_type": "code",
   "execution_count": null,
   "id": "181d92c9-d350-4d01-866e-553336945ed8",
   "metadata": {},
   "outputs": [
    {
     "data": {
      "text/plain": [
       "_StoreAction(option_strings=['--name', '-n'], dest='name', nargs=None, const=None, default=None, type=None, choices=None, help='practice name', metavar=None)"
      ]
     },
     "execution_count": 65,
     "metadata": {},
     "output_type": "execute_result"
    }
   ],
   "source": [
    "parser = argparse.ArgumentParser(description='PracticeMakePerfect (pmp)',formatter_class=argparse.RawDescriptionHelpFormatter,\n",
    "                                 epilog=textwrap.dedent('''\\\n",
    "practice       launch and record selected practice\n",
    "add            add practice routine\n",
    "delete         delete\n",
    "change_status  change status between active and archived\n",
    "modify         modify practice\n",
    "ls             list practices\n",
    "record         mark practice as done without trying to launch any associated links\n",
    "statistics     show statistics\n",
    "undo           roll back to backup''')\n",
    "# actions\n",
    "parser.add_argument('command',help='''command''')\n",
    "# filters\n",
    "parser.add_argument('--id','-i',type=int,help='ID number')\n",
    "parser.add_argument('--name','-n',help='practice name')\n",
    "parser.add_argument('--\n",
    "\n",
    "\n",
    "\n",
    " -n           practice name\n",
    " -t           tags (space separated)\n",
    " -d           description\n",
    " -l           links (filename,URL)\n",
    " +b  = bass\n",
    " +g  = guitar\n",
    " +d  = drums\n",
    " +k  = keyboard\n",
    " +u  = ukulele\n",
    " +0  = notNeeded\n",
    " -p           priority\n",
    " -s           status (0 = archived or 1 = current)\n",
    " -c           count\n",
    " -h           history (log)\n",
    " -0           creation date"
   ]
  },
  {
   "cell_type": "code",
   "execution_count": null,
   "id": "cfcd3456-80c1-4519-861a-fde5af6a551b",
   "metadata": {
    "tags": []
   },
   "outputs": [
    {
     "name": "stdout",
     "output_type": "stream",
     "text": [
      "usage: ipykernel_launcher.py [-h] [--practice PRACTICE] [--add ADD]\n",
      "                             [--delete DELETE] [--change_status CHANGE_STATUS]\n",
      "                             [--modify MODIFY] [--ls LS] [--record RECORD]\n",
      "                             [--statistics STATISTICS] [--undo UNDO] [--id ID]\n",
      "                             [--name NAME]\n",
      "                             command\n",
      "\n",
      "PracticeMakePerfect (pmp)\n",
      "\n",
      "positional arguments:\n",
      "  command               command\n",
      "\n",
      "optional arguments:\n",
      "  -h, --help            show this help message and exit\n",
      "  --practice PRACTICE\n",
      "  --add ADD\n",
      "  --delete DELETE\n",
      "  --change_status CHANGE_STATUS\n",
      "  --modify MODIFY\n",
      "  --ls LS\n",
      "  --record RECORD\n",
      "  --statistics STATISTICS\n",
      "  --undo UNDO\n",
      "  --id ID, -i ID        ID number\n",
      "  --name NAME, -n NAME  practice name\n"
     ]
    },
    {
     "ename": "SystemExit",
     "evalue": "0",
     "output_type": "error",
     "traceback": [
      "An exception has occurred, use %tb to see the full traceback.\n",
      "\u001b[1;31mSystemExit\u001b[0m\u001b[1;31m:\u001b[0m 0\n"
     ]
    },
    {
     "name": "stderr",
     "output_type": "stream",
     "text": [
      "C:\\Users\\mceau\\Anaconda3\\lib\\site-packages\\IPython\\core\\interactiveshell.py:3452: UserWarning: To exit: use 'exit', 'quit', or Ctrl-D.\n",
      "  warn(\"To exit: use 'exit', 'quit', or Ctrl-D.\", stacklevel=1)\n"
     ]
    }
   ],
   "source": [
    "parser.parse_args('-h'.split(' '))"
   ]
  },
  {
   "cell_type": "code",
   "execution_count": null,
   "id": "f6818935-ec99-421d-9e30-15c6863fd642",
   "metadata": {},
   "outputs": [
    {
     "data": {
      "text/plain": [
       "'ab'"
      ]
     },
     "execution_count": 63,
     "metadata": {},
     "output_type": "execute_result"
    }
   ],
   "source": []
  },
  {
   "cell_type": "markdown",
   "id": "84689764-3935-4617-8fc7-0f621318818d",
   "metadata": {},
   "source": [
    "             --------\n"
   ]
  }
 ],
 "metadata": {
  "kernelspec": {
   "display_name": "Python 3 (ipykernel)",
   "language": "python",
   "name": "python3"
  },
  "language_info": {
   "codemirror_mode": {
    "name": "ipython",
    "version": 3
   },
   "file_extension": ".py",
   "mimetype": "text/x-python",
   "name": "python",
   "nbconvert_exporter": "python",
   "pygments_lexer": "ipython3",
   "version": "3.9.7"
  }
 },
 "nbformat": 4,
 "nbformat_minor": 5
}
