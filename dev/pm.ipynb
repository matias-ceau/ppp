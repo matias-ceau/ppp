{
 "cells": [
  {
   "cell_type": "code",
   "execution_count": 2,
   "id": "6e339bf7-5618-448f-81a7-22d1f4f7d92b",
   "metadata": {},
   "outputs": [],
   "source": [
    "import numpy as np\n",
    "import pandas as pd\n",
    "import sys\n",
    "import argparse\n",
    "import matplotlib.pyplot as plt"
   ]
  },
  {
   "cell_type": "code",
   "execution_count": 18,
   "id": "802f4e5e-a7a1-44d9-a2af-495fb68e4d9d",
   "metadata": {},
   "outputs": [
    {
     "data": {
      "text/plain": [
       "86400"
      ]
     },
     "execution_count": 23,
     "metadata": {},
     "output_type": "execute_result"
    }
   ],
   "source": [
    "3*24*60*60"
   ]
  },
  {
   "cell_type": "code",
   "execution_count": 44,
   "id": "15f831f7-6cf5-46f8-906a-3259bb215313",
   "metadata": {},
   "outputs": [],
   "source": [
    "x = np.arange(0,30,0.1)"
   ]
  },
  {
   "cell_type": "code",
   "execution_count": 82,
   "id": "a1801986-4f65-4c13-979c-b00332266204",
   "metadata": {},
   "outputs": [],
   "source": [
    "def f(x):\n",
    "    return 1/(1+np.exp(-0.5*x)*10)"
   ]
  },
  {
   "cell_type": "code",
   "execution_count": 84,
   "id": "258c3a67-1bf0-4bfb-9172-a147c41eb614",
   "metadata": {},
   "outputs": [
    {
     "data": {
      "text/plain": [
       "<matplotlib.lines.Line2D at 0x7fbef642e9a0>"
      ]
     },
     "execution_count": 84,
     "metadata": {},
     "output_type": "execute_result"
    },
    {
     "data": {
      "image/png": "[encoded data removed]",
      "text/plain": [
       "<Figure size 432x288 with 1 Axes>"
      ]
     },
     "metadata": {
      "needs_background": "light"
     },
     "output_type": "display_data"
    }
   ],
   "source": [
    "plt.plot(x,f(x))\n",
    "plt.axvline(7)"
   ]
  },
  {
   "cell_type": "code",
   "execution_count": null,
   "id": "9a57304b-7d7c-40d2-bb2c-02e2a25c65af",
   "metadata": {},
   "outputs": [],
   "source": []
  }
 ],
 "metadata": {
  "kernelspec": {
   "display_name": "Python 3 (ipykernel)",
   "language": "python",
   "name": "python3"
  },
  "language_info": {
   "codemirror_mode": {
    "name": "ipython",
    "version": 3
   },
   "file_extension": ".py",
   "mimetype": "text/x-python",
   "name": "python",
   "nbconvert_exporter": "python",
   "pygments_lexer": "ipython3",
   "version": "3.9.7"
  }
 },
 "nbformat": 4,
 "nbformat_minor": 5
}
